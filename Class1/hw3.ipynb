{
 "cells": [
  {
   "cell_type": "markdown",
   "metadata": {},
   "source": [
    "A rental car company claims the mean time to rent a car on their website is 60 seconds with a standard deviation of 30 seconds. A random sample of 36 customers attempted to rent a car on the website. "
   ]
  },
  {
   "cell_type": "markdown",
   "metadata": {},
   "source": [
    "1) If the mean time to rent was 65 seconds. Is this enough evidence to contradict the company's claim at 5% confidence level? What's the power?"
   ]
  },
  {
   "cell_type": "code",
   "execution_count": 7,
   "metadata": {},
   "outputs": [],
   "source": [
    "from scipy.stats import norm\n",
    "import scipy.stats as st\n",
    "import numpy as np"
   ]
  },
  {
   "cell_type": "code",
   "execution_count": 5,
   "metadata": {},
   "outputs": [
    {
     "name": "stdout",
     "output_type": "stream",
     "text": [
      "p-value = 0.15865525393145707\n"
     ]
    }
   ],
   "source": [
    "print(\"p-value = {}\".format(1-norm.cdf((65-60)/(30/6), loc=0, scale=1)))"
   ]
  },
  {
   "cell_type": "code",
   "execution_count": 12,
   "metadata": {},
   "outputs": [
    {
     "data": {
      "text/plain": [
       "False"
      ]
     },
     "execution_count": 12,
     "metadata": {},
     "output_type": "execute_result"
    }
   ],
   "source": [
    "a=0.05\n",
    "1-norm.cdf((65-60)/(30/6), loc=0, scale=1)<a"
   ]
  },
  {
   "cell_type": "code",
   "execution_count": 22,
   "metadata": {},
   "outputs": [
    {
     "data": {
      "text/plain": [
       "0.17007504575308752"
      ]
     },
     "execution_count": 22,
     "metadata": {},
     "output_type": "execute_result"
    }
   ],
   "source": [
    "power = 1 - (st.norm.cdf((65-60)/(30/6) + st.norm.ppf(0.975))) + ((st.norm.cdf((65-60)/(30/6) - st.norm.ppf(0.975))))\n",
    "power"
   ]
  },
  {
   "cell_type": "code",
   "execution_count": 51,
   "metadata": {},
   "outputs": [],
   "source": [
    "def critical_z(alpha=0.05, tail=\"two\"):\n",
    "    \"\"\"\n",
    "    Given significance level, compute critical value.\n",
    "    \"\"\"\n",
    "    if tail == \"two\":\n",
    "        p = 1 - alpha / 2\n",
    "    else:\n",
    "        p = 1 - alpha\n",
    "        \n",
    "    return norm.ppf(p)\n",
    "\n",
    "def compute_power(h_0, h_1, se, alpha=0.05, tail=\"two\"):\n",
    "    \"\"\"\n",
    "    Compute power given the centers of sampling distributions\n",
    "    under the null and alternative hypotheses, and shared standard error.\n",
    "    \"\"\"\n",
    "    z = critical_z(alpha=alpha, tail=tail)\n",
    "    \n",
    "    lower = h_0 - z * se\n",
    "    upper = h_0 + z * se\n",
    "    \n",
    "    lower_a = norm.cdf(lower, h_1, se)\n",
    "    upper_a = 1 - norm.cdf(upper, h_1, se)\n",
    "    \n",
    "    if tail == \"two\":\n",
    "        print(\"acceptance region [%.3f, %.3f]\"%(lower, upper))\n",
    "        return lower_a + upper_a\n",
    "    \n",
    "    elif tail == \"left\":\n",
    "        print(\"acceptance region > %.3f\"%(lower))\n",
    "        return lower_a\n",
    "    \n",
    "    elif tail == \"right\":\n",
    "        print(\"acceptance region < %.3f\"%(upper))\n",
    "        return upper_a"
   ]
  },
  {
   "cell_type": "code",
   "execution_count": 54,
   "metadata": {},
   "outputs": [
    {
     "name": "stdout",
     "output_type": "stream",
     "text": [
      "acceptance region > 56.776\n",
      "power: 0.260, beta: 0.740\n"
     ]
    }
   ],
   "source": [
    "power = compute_power(65, 60, 5, tail=\"left\")\n",
    "print(\"power: %.3f, beta: %.3f\"%(power, 1 - power))"
   ]
  },
  {
   "cell_type": "markdown",
   "metadata": {},
   "source": [
    "* Since p-value is bigger than alpha, we do not reject null hypothesis.\n",
    "* Power is around 26%."
   ]
  },
  {
   "cell_type": "markdown",
   "metadata": {},
   "source": [
    "2) If the analysts team believe the claim is not correct and the the time for rent is 67 seconds, what's the sample size need to designed for a sufficient test with 85% fo power"
   ]
  },
  {
   "cell_type": "code",
   "execution_count": 57,
   "metadata": {},
   "outputs": [
    {
     "data": {
      "text/plain": [
       "132.04836853269674"
      ]
     },
     "execution_count": 57,
     "metadata": {},
     "output_type": "execute_result"
    }
   ],
   "source": [
    "n = ((st.norm.ppf(0.85) * 30 + 30 * st.norm.ppf(0.95)) / (67-60))**2\n",
    "n"
   ]
  },
  {
   "cell_type": "markdown",
   "metadata": {},
   "source": [
    "* Hence, the sample size should be 133."
   ]
  },
  {
   "cell_type": "code",
   "execution_count": null,
   "metadata": {},
   "outputs": [],
   "source": []
  }
 ],
 "metadata": {
  "kernelspec": {
   "display_name": "Python 3",
   "language": "python",
   "name": "python3"
  },
  "language_info": {
   "codemirror_mode": {
    "name": "ipython",
    "version": 3
   },
   "file_extension": ".py",
   "mimetype": "text/x-python",
   "name": "python",
   "nbconvert_exporter": "python",
   "pygments_lexer": "ipython3",
   "version": "3.7.3"
  }
 },
 "nbformat": 4,
 "nbformat_minor": 2
}
